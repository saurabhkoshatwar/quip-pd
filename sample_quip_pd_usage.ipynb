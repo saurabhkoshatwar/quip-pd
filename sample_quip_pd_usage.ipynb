{
 "cells": [
  {
   "cell_type": "markdown",
   "metadata": {},
   "source": [
    "# Quip DataFrame Sample Usage\n",
    "This notebook demonstrates how to use the `QuipDataFrame` class to interact with a Quip spreadsheet."
   ]
  },
  {
   "cell_type": "code",
   "execution_count": 1,
   "metadata": {},
   "outputs": [],
   "source": [
    "from quip_pd import QuipDataFrame"
   ]
  },
  {
   "cell_type": "code",
   "execution_count": 4,
   "metadata": {},
   "outputs": [],
   "source": [
    "# Replace with your actual Quip access token and thread ID\n",
    "QUIP_ACCESS_TOKEN = 'YOUR_QUIP_ACCESS_TOKEN'\n",
    "THREAD_ID = 'YOUR_THREAD_ID'\n",
    "\n",
    "qdf = QuipDataFrame(quip_access_token=QUIP_ACCESS_TOKEN, thread_id=THREAD_ID)"
   ]
  },
  {
   "cell_type": "code",
   "execution_count": 5,
   "metadata": {},
   "outputs": [
    {
     "ename": "HTTPError",
     "evalue": "404 Client Error: Not Found for url: https://platform.quip.com/1/spreadsheets/QghNA8gtsD4J",
     "output_type": "error",
     "traceback": [
      "\u001b[1;31m---------------------------------------------------------------------------\u001b[0m",
      "\u001b[1;31mHTTPError\u001b[0m                                 Traceback (most recent call last)",
      "Cell \u001b[1;32mIn[5], line 2\u001b[0m\n\u001b[0;32m      1\u001b[0m \u001b[38;5;66;03m# Load data from the Quip spreadsheet\u001b[39;00m\n\u001b[1;32m----> 2\u001b[0m \u001b[43mqdf\u001b[49m\u001b[38;5;241;43m.\u001b[39;49m\u001b[43mload\u001b[49m\u001b[43m(\u001b[49m\u001b[43m)\u001b[49m\n\u001b[0;32m      3\u001b[0m qdf\u001b[38;5;241m.\u001b[39mdf  \u001b[38;5;66;03m# Display the loaded DataFrame\u001b[39;00m\n",
      "File \u001b[1;32mS:\\Projects\\quip-pd\\src\\quip_pd\\__init__.py:16\u001b[0m, in \u001b[0;36mQuipDataFrame.load\u001b[1;34m(self)\u001b[0m\n\u001b[0;32m     14\u001b[0m \u001b[38;5;250m\u001b[39m\u001b[38;5;124;03m\"\"\"Load data from the Quip spreadsheet into the DataFrame.\"\"\"\u001b[39;00m\n\u001b[0;32m     15\u001b[0m resp \u001b[38;5;241m=\u001b[39m requests\u001b[38;5;241m.\u001b[39mget(\u001b[38;5;28mself\u001b[39m\u001b[38;5;241m.\u001b[39mapi_url, headers\u001b[38;5;241m=\u001b[39m\u001b[38;5;28mself\u001b[39m\u001b[38;5;241m.\u001b[39mheaders)\n\u001b[1;32m---> 16\u001b[0m \u001b[43mresp\u001b[49m\u001b[38;5;241;43m.\u001b[39;49m\u001b[43mraise_for_status\u001b[49m\u001b[43m(\u001b[49m\u001b[43m)\u001b[49m\n\u001b[0;32m     17\u001b[0m data \u001b[38;5;241m=\u001b[39m resp\u001b[38;5;241m.\u001b[39mjson()\n\u001b[0;32m     18\u001b[0m \u001b[38;5;66;03m# Quip spreadsheet data is in 'cells' (row-major order)\u001b[39;00m\n",
      "File \u001b[1;32mc:\\Users\\saura\\AppData\\Local\\Packages\\PythonSoftwareFoundation.Python.3.12_qbz5n2kfra8p0\\LocalCache\\Local\\pypoetry\\Cache\\virtualenvs\\quip-pd-IPg3ghT5-py3.10\\lib\\site-packages\\requests\\models.py:1026\u001b[0m, in \u001b[0;36mResponse.raise_for_status\u001b[1;34m(self)\u001b[0m\n\u001b[0;32m   1021\u001b[0m     http_error_msg \u001b[38;5;241m=\u001b[39m (\n\u001b[0;32m   1022\u001b[0m         \u001b[38;5;124mf\u001b[39m\u001b[38;5;124m\"\u001b[39m\u001b[38;5;132;01m{\u001b[39;00m\u001b[38;5;28mself\u001b[39m\u001b[38;5;241m.\u001b[39mstatus_code\u001b[38;5;132;01m}\u001b[39;00m\u001b[38;5;124m Server Error: \u001b[39m\u001b[38;5;132;01m{\u001b[39;00mreason\u001b[38;5;132;01m}\u001b[39;00m\u001b[38;5;124m for url: \u001b[39m\u001b[38;5;132;01m{\u001b[39;00m\u001b[38;5;28mself\u001b[39m\u001b[38;5;241m.\u001b[39murl\u001b[38;5;132;01m}\u001b[39;00m\u001b[38;5;124m\"\u001b[39m\n\u001b[0;32m   1023\u001b[0m     )\n\u001b[0;32m   1025\u001b[0m \u001b[38;5;28;01mif\u001b[39;00m http_error_msg:\n\u001b[1;32m-> 1026\u001b[0m     \u001b[38;5;28;01mraise\u001b[39;00m HTTPError(http_error_msg, response\u001b[38;5;241m=\u001b[39m\u001b[38;5;28mself\u001b[39m)\n",
      "\u001b[1;31mHTTPError\u001b[0m: 404 Client Error: Not Found for url: https://platform.quip.com/1/spreadsheets/QghNA8gtsD4J"
     ]
    }
   ],
   "source": [
    "# Load data from the Quip spreadsheet\n",
    "qdf.load()\n",
    "qdf.df  # Display the loaded DataFrame"
   ]
  },
  {
   "cell_type": "code",
   "execution_count": null,
   "metadata": {},
   "outputs": [],
   "source": [
    "# Modify a cell value\n",
    "qdf.df.iloc[0, 0] = 'new value'\n",
    "qdf.sync()  # Sync changes back to Quip"
   ]
  },
  {
   "cell_type": "code",
   "execution_count": null,
   "metadata": {},
   "outputs": [],
   "source": [
    "# Check if a cell is locked\n",
    "\n",
    "\n",
    "is_locked = qdf.check_lock(0, 0)\n",
    "print(f'Cell (0, 0) locked: {is_locked}')"
   ]
  },
  {
   "cell_type": "code",
   "execution_count": null,
   "metadata": {},
   "outputs": [],
   "source": [
    "# Lock a cell\n",
    "if not is_locked:\n",
    "    qdf.lock_cell(0, 0)\n",
    "    print('Cell (0, 0) is now locked.')"
   ]
  }
 ],
 "metadata": {
  "kernelspec": {
   "display_name": "quip-pd-IPg3ghT5-py3.10",
   "language": "python",
   "name": "python3"
  },
  "language_info": {
   "codemirror_mode": {
    "name": "ipython",
    "version": 3
   },
   "file_extension": ".py",
   "mimetype": "text/x-python",
   "name": "python",
   "nbconvert_exporter": "python",
   "pygments_lexer": "ipython3",
   "version": "3.10.0"
  }
 },
 "nbformat": 4,
 "nbformat_minor": 2
}
